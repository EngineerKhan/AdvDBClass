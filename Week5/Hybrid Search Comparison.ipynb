{
 "cells": [
  {
   "cell_type": "code",
   "id": "initial_id",
   "metadata": {
    "collapsed": true,
    "ExecuteTime": {
     "end_time": "2025-09-29T11:54:14.664318Z",
     "start_time": "2025-09-29T11:54:14.662031Z"
    }
   },
   "source": [
    "import math\n",
    "import numpy as np\n",
    "import pandas as pd\n",
    "from typing import List, Dict, Tuple\n",
    "\n",
    "from nltk import word_tokenize\n",
    "from sentence_transformers import SentenceTransformer\n",
    "import re\n",
    "import nltk\n",
    "nltk.download('punkt_tab')\n",
    "from nltk.corpus import stopwords"
   ],
   "outputs": [
    {
     "name": "stderr",
     "output_type": "stream",
     "text": [
      "[nltk_data] Downloading package punkt_tab to /Users/talha/nltk_data...\n",
      "[nltk_data]   Package punkt_tab is already up-to-date!\n"
     ]
    }
   ],
   "execution_count": 12
  },
  {
   "metadata": {
    "ExecuteTime": {
     "end_time": "2025-09-29T11:54:14.681699Z",
     "start_time": "2025-09-29T11:54:14.677680Z"
    }
   },
   "cell_type": "code",
   "source": [
    "DOCS = [\n",
    "    \"Cheap flights to New York from Dubai. Find the best airfare deals.\",\n",
    "    \"Looking for affordable airfare to NYC? Compare ticket prices and airlines.\",\n",
    "    \"The football world cup draws millions of fans every four years.\",\n",
    "    \"Soccer analytics with xG models and player tracking data.\",\n",
    "    \"Intro to artificial intelligence: machine learning and neural networks.\",\n",
    "    \"AI applications in travel: dynamic pricing and flight delay prediction.\",\n",
    "    \"Visit Istanbul for history, food, and Bosphorus cruises.\",\n",
    "    \"New York City travel guide: subway tips, museums, and pizza spots.\",\n",
    "    \"Basketball playoffs: New York Knicks advance to conference finals.\",\n",
    "    \"Air travel tips: baggage rules, layover strategies, and airport lounges.\"\n",
    "]\n",
    "\n",
    "DOC_IDS = [f\"D{i:02d}\" for i in range(len(DOCS))]\n",
    "stop_words = set(stopwords.words('english'))\n",
    "\n",
    "def Tokenize(text: str) -> List[str]:\n",
    "    text = text.lower()\n",
    "    text = re.sub(r\"[^a-z0-9]+\", \" \", text)\n",
    "    tokens = word_tokenize(text)\n",
    "    return [word for word in tokens if word.lower() not in stop_words]\n",
    "\n",
    "tokens = [Tokenize(d) for d in DOCS]"
   ],
   "id": "b2a672c7fb2fe12",
   "outputs": [],
   "execution_count": 13
  },
  {
   "metadata": {
    "ExecuteTime": {
     "end_time": "2025-09-29T11:54:14.700310Z",
     "start_time": "2025-09-29T11:54:14.696399Z"
    }
   },
   "cell_type": "code",
   "source": [
    "\"\"\"ChatGPT written code - you can use it verbaitm as it is not directly related to the topic.\n",
    "\n",
    "\"\"\"\n",
    "# -----------------------------\n",
    "# Vocabulary & statistics\n",
    "# -----------------------------\n",
    "def BuildVocabulary(docs_tokens: List[List[str]]) -> Tuple[Dict[str, int], List[int], Dict[str, int]]:\n",
    "    vocab = {}\n",
    "    df = {}  # document frequency\n",
    "    for toks in docs_tokens:\n",
    "        seen = set()\n",
    "        for t in toks:\n",
    "            if t not in vocab:\n",
    "                vocab[t] = len(vocab)\n",
    "            if t not in seen:\n",
    "                df[t] = df.get(t, 0) + 1\n",
    "                seen.add(t)\n",
    "    df_list = [0]*len(vocab)\n",
    "    for t, i in vocab.items():\n",
    "        df_list[i] = df[t]\n",
    "    return vocab, df_list, df\n",
    "\n",
    "VOCAB, DF_LIST, DF_DICT = BuildVocabulary(tokens)\n",
    "N_DOCS = len(DOCS)\n",
    "AVGDL = sum(len(toks) for toks in tokens) / N_DOCS\n",
    "\n",
    "# Precompute term frequencies per doc (sparse dicts)\n",
    "DOC_TF = []\n",
    "for toks in tokens:\n",
    "    tf = {}\n",
    "    for t in toks:\n",
    "        tf[t] = tf.get(t, 0) + 1\n",
    "    DOC_TF.append(tf)\n",
    "\n",
    "# -----------------------------\n",
    "# BM25 (Okapi) implementation\n",
    "# -----------------------------\n",
    "def BM25Okapi(query: str, k1=1.5, b=0.75) -> np.ndarray:\n",
    "    q_tokens = Tokenize(query)\n",
    "    # Use BM25 idf variant\n",
    "    idf = {}\n",
    "    for t in q_tokens:\n",
    "        n_q = DF_DICT.get(t, 0)\n",
    "        # BM25+Okapi idf, adding +1 inside log to avoid negatives on very common terms in tiny corpora\n",
    "        idf[t] = math.log((N_DOCS - n_q + 0.5) / (n_q + 0.5) + 1.0)\n",
    "    scores = np.zeros(N_DOCS, dtype=float)\n",
    "    for i, tf in enumerate(DOC_TF):\n",
    "        dl = sum(tf.values())\n",
    "        denom_norm = (1 - b) + b * (dl / AVGDL)\n",
    "        s = 0.0\n",
    "        for t in q_tokens:\n",
    "            f = tf.get(t, 0)\n",
    "            if f == 0:\n",
    "                continue\n",
    "            s += idf[t] * ( (f * (k1 + 1)) / (f + k1 * denom_norm) )\n",
    "        scores[i] = s\n",
    "    return scores"
   ],
   "id": "a6b7c25394883d1c",
   "outputs": [],
   "execution_count": 14
  },
  {
   "metadata": {
    "ExecuteTime": {
     "end_time": "2025-09-29T11:54:20.032208Z",
     "start_time": "2025-09-29T11:54:14.703010Z"
    }
   },
   "cell_type": "code",
   "source": [
    "embedder = SentenceTransformer(\"all-MiniLM-L6-v2\")\n",
    "embeddingVectors = embedder.encode(DOCS, convert_to_numpy=True, normalize_embeddings=True)\n",
    "\n",
    "def QueryEmbedding(query: str) -> np.ndarray:\n",
    "    return embedder.encode([query], convert_to_numpy=True, normalize_embeddings=True)[0]\n",
    "\n",
    "def CosineSimilarity(q_vec: np.ndarray, doc_matrix: np.ndarray) -> np.ndarray:\n",
    "    return doc_matrix @ q_vec"
   ],
   "id": "3f7e6e96fbf165c3",
   "outputs": [
    {
     "name": "stderr",
     "output_type": "stream",
     "text": [
      "/opt/anaconda3/envs/RAGSystems/lib/python3.12/site-packages/torch/nn/modules/module.py:1762: FutureWarning: `encoder_attention_mask` is deprecated and will be removed in version 4.55.0 for `BertSdpaSelfAttention.forward`.\n",
      "  return forward_call(*args, **kwargs)\n"
     ]
    }
   ],
   "execution_count": 15
  },
  {
   "metadata": {
    "ExecuteTime": {
     "end_time": "2025-09-29T13:55:15.676667Z",
     "start_time": "2025-09-29T13:55:15.672825Z"
    }
   },
   "cell_type": "code",
   "source": [
    "β = 1e-12\n",
    "\n",
    "def NormalizeScore(x: np.ndarray) -> np.ndarray:\n",
    "    mn, mx = x.min(), x.max()\n",
    "    if mx - mn < β:\n",
    "        return np.zeros_like(x)\n",
    "    return (x - mn) / (mx - mn)\n",
    "\n",
    "def HybridSearch(query: str, α: float = 0.5) -> pd.DataFrame:\n",
    "    bm25Score =NormalizeScore(BM25Okapi(query))\n",
    "    semanticSimilarity = NormalizeScore(CosineSimilarity(QueryEmbedding(query), embeddingVectors))\n",
    "\n",
    "    hybridScore = α * bm25Score + (1 - α) * semanticSimilarity\n",
    "\n",
    "    df = pd.DataFrame({\n",
    "        \"id\": DOC_IDS,\n",
    "        \"document\": DOCS,\n",
    "        \"BM25\": bm25Score,\n",
    "        \"Cos Similarity\": semanticSimilarity,\n",
    "        f\"Hybrid (alpha={α:.2f})\": hybridScore\n",
    "    }).sort_values(by=f\"Hybrid (alpha={α:.2f})\", ascending=False).reset_index(drop=True)\n",
    "    return df"
   ],
   "id": "c758d9b199b693f9",
   "outputs": [],
   "execution_count": 22
  },
  {
   "metadata": {
    "ExecuteTime": {
     "end_time": "2025-09-29T13:55:18.098974Z",
     "start_time": "2025-09-29T13:55:17.779447Z"
    }
   },
   "cell_type": "code",
   "source": [
    "resultsDF = HybridSearch(\"cheap flights to New York\", α=0.3)\n",
    "\n",
    "resultsDF"
   ],
   "id": "84727d5b6f36b9fd",
   "outputs": [
    {
     "name": "stderr",
     "output_type": "stream",
     "text": [
      "/opt/anaconda3/envs/RAGSystems/lib/python3.12/site-packages/torch/nn/modules/module.py:1762: FutureWarning: `encoder_attention_mask` is deprecated and will be removed in version 4.55.0 for `BertSdpaSelfAttention.forward`.\n",
      "  return forward_call(*args, **kwargs)\n"
     ]
    },
    {
     "data": {
      "text/plain": [
       "    id                                           document      BM25  \\\n",
       "0  D00  Cheap flights to New York from Dubai. Find the...  1.000000   \n",
       "1  D01  Looking for affordable airfare to NYC? Compare...  0.000000   \n",
       "2  D07  New York City travel guide: subway tips, museu...  0.346635   \n",
       "3  D05  AI applications in travel: dynamic pricing and...  0.000000   \n",
       "4  D08  Basketball playoffs: New York Knicks advance t...  0.385365   \n",
       "5  D09  Air travel tips: baggage rules, layover strate...  0.000000   \n",
       "6  D06  Visit Istanbul for history, food, and Bosphoru...  0.000000   \n",
       "7  D03  Soccer analytics with xG models and player tra...  0.000000   \n",
       "8  D02  The football world cup draws millions of fans ...  0.000000   \n",
       "9  D04  Intro to artificial intelligence: machine lear...  0.000000   \n",
       "\n",
       "   Cos Similarity  Hybrid (alpha=0.30)  \n",
       "0        0.951896             0.966327  \n",
       "1        1.000000             0.700000  \n",
       "2        0.709671             0.600760  \n",
       "3        0.544978             0.381485  \n",
       "4        0.363443             0.370019  \n",
       "5        0.451535             0.316074  \n",
       "6        0.295840             0.207088  \n",
       "7        0.070316             0.049221  \n",
       "8        0.059690             0.041783  \n",
       "9        0.000000             0.000000  "
      ],
      "text/html": [
       "<div>\n",
       "<style scoped>\n",
       "    .dataframe tbody tr th:only-of-type {\n",
       "        vertical-align: middle;\n",
       "    }\n",
       "\n",
       "    .dataframe tbody tr th {\n",
       "        vertical-align: top;\n",
       "    }\n",
       "\n",
       "    .dataframe thead th {\n",
       "        text-align: right;\n",
       "    }\n",
       "</style>\n",
       "<table border=\"1\" class=\"dataframe\">\n",
       "  <thead>\n",
       "    <tr style=\"text-align: right;\">\n",
       "      <th></th>\n",
       "      <th>id</th>\n",
       "      <th>document</th>\n",
       "      <th>BM25</th>\n",
       "      <th>Cos Similarity</th>\n",
       "      <th>Hybrid (alpha=0.30)</th>\n",
       "    </tr>\n",
       "  </thead>\n",
       "  <tbody>\n",
       "    <tr>\n",
       "      <th>0</th>\n",
       "      <td>D00</td>\n",
       "      <td>Cheap flights to New York from Dubai. Find the...</td>\n",
       "      <td>1.000000</td>\n",
       "      <td>0.951896</td>\n",
       "      <td>0.966327</td>\n",
       "    </tr>\n",
       "    <tr>\n",
       "      <th>1</th>\n",
       "      <td>D01</td>\n",
       "      <td>Looking for affordable airfare to NYC? Compare...</td>\n",
       "      <td>0.000000</td>\n",
       "      <td>1.000000</td>\n",
       "      <td>0.700000</td>\n",
       "    </tr>\n",
       "    <tr>\n",
       "      <th>2</th>\n",
       "      <td>D07</td>\n",
       "      <td>New York City travel guide: subway tips, museu...</td>\n",
       "      <td>0.346635</td>\n",
       "      <td>0.709671</td>\n",
       "      <td>0.600760</td>\n",
       "    </tr>\n",
       "    <tr>\n",
       "      <th>3</th>\n",
       "      <td>D05</td>\n",
       "      <td>AI applications in travel: dynamic pricing and...</td>\n",
       "      <td>0.000000</td>\n",
       "      <td>0.544978</td>\n",
       "      <td>0.381485</td>\n",
       "    </tr>\n",
       "    <tr>\n",
       "      <th>4</th>\n",
       "      <td>D08</td>\n",
       "      <td>Basketball playoffs: New York Knicks advance t...</td>\n",
       "      <td>0.385365</td>\n",
       "      <td>0.363443</td>\n",
       "      <td>0.370019</td>\n",
       "    </tr>\n",
       "    <tr>\n",
       "      <th>5</th>\n",
       "      <td>D09</td>\n",
       "      <td>Air travel tips: baggage rules, layover strate...</td>\n",
       "      <td>0.000000</td>\n",
       "      <td>0.451535</td>\n",
       "      <td>0.316074</td>\n",
       "    </tr>\n",
       "    <tr>\n",
       "      <th>6</th>\n",
       "      <td>D06</td>\n",
       "      <td>Visit Istanbul for history, food, and Bosphoru...</td>\n",
       "      <td>0.000000</td>\n",
       "      <td>0.295840</td>\n",
       "      <td>0.207088</td>\n",
       "    </tr>\n",
       "    <tr>\n",
       "      <th>7</th>\n",
       "      <td>D03</td>\n",
       "      <td>Soccer analytics with xG models and player tra...</td>\n",
       "      <td>0.000000</td>\n",
       "      <td>0.070316</td>\n",
       "      <td>0.049221</td>\n",
       "    </tr>\n",
       "    <tr>\n",
       "      <th>8</th>\n",
       "      <td>D02</td>\n",
       "      <td>The football world cup draws millions of fans ...</td>\n",
       "      <td>0.000000</td>\n",
       "      <td>0.059690</td>\n",
       "      <td>0.041783</td>\n",
       "    </tr>\n",
       "    <tr>\n",
       "      <th>9</th>\n",
       "      <td>D04</td>\n",
       "      <td>Intro to artificial intelligence: machine lear...</td>\n",
       "      <td>0.000000</td>\n",
       "      <td>0.000000</td>\n",
       "      <td>0.000000</td>\n",
       "    </tr>\n",
       "  </tbody>\n",
       "</table>\n",
       "</div>"
      ]
     },
     "execution_count": 23,
     "metadata": {},
     "output_type": "execute_result"
    }
   ],
   "execution_count": 23
  }
 ],
 "metadata": {
  "kernelspec": {
   "display_name": "Python 3",
   "language": "python",
   "name": "python3"
  },
  "language_info": {
   "codemirror_mode": {
    "name": "ipython",
    "version": 2
   },
   "file_extension": ".py",
   "mimetype": "text/x-python",
   "name": "python",
   "nbconvert_exporter": "python",
   "pygments_lexer": "ipython2",
   "version": "2.7.6"
  }
 },
 "nbformat": 4,
 "nbformat_minor": 5
}
