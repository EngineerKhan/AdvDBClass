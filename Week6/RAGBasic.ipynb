{
 "cells": [
  {
   "cell_type": "code",
   "execution_count": 1,
   "id": "initial_id",
   "metadata": {
    "ExecuteTime": {
     "end_time": "2025-10-08T04:00:58.190111Z",
     "start_time": "2025-10-08T04:00:40.173211Z"
    }
   },
   "outputs": [
    {
     "name": "stderr",
     "output_type": "stream",
     "text": [
      "/opt/anaconda3/envs/RAGSystems/lib/python3.12/site-packages/tqdm/auto.py:21: TqdmWarning: IProgress not found. Please update jupyter and ipywidgets. See https://ipywidgets.readthedocs.io/en/stable/user_install.html\n",
      "  from .autonotebook import tqdm as notebook_tqdm\n",
      "/opt/anaconda3/envs/RAGSystems/lib/python3.12/site-packages/torch/nn/modules/module.py:1762: FutureWarning: `encoder_attention_mask` is deprecated and will be removed in version 4.55.0 for `BertSdpaSelfAttention.forward`.\n",
      "  return forward_call(*args, **kwargs)\n"
     ]
    }
   ],
   "source": [
    "from transformers import AutoTokenizer, AutoModelForCausalLM\n",
    "from sentence_transformers import SentenceTransformer\n",
    "\n",
    "embedder = SentenceTransformer('all-MiniLM-L6-v2')\n",
    "tokenizer = AutoTokenizer.from_pretrained(\"gpt2\")\n",
    "model = AutoModelForCausalLM.from_pretrained(\"gpt2\")\n",
    "\n",
    "docs = [\n",
    "    \"Coral bleaching occurs when corals expel the algae living in their tissues due to stress, often caused by rising sea temperatures.\",\n",
    "    \"The Great Barrier Reef is the world's largest coral reef system, located in Australia.\",\n",
    "    \"Photosynthesis in coral algae provides most of the energy that corals need to grow.\",\n",
    "    \"Climate change is increasing sea temperatures, making coral reefs more vulnerable to bleaching events.\"\n",
    "]\n",
    "\n",
    "doc_embeddings = embedder.encode(docs, convert_to_tensor=True)"
   ]
  },
  {
   "cell_type": "code",
   "execution_count": 2,
   "id": "5fb2ba253c850181",
   "metadata": {
    "ExecuteTime": {
     "end_time": "2025-10-07T12:40:46.018065Z",
     "start_time": "2025-10-07T12:40:46.014828Z"
    }
   },
   "outputs": [],
   "source": [
    "import torch\n",
    "\n",
    "def cosine_similarity(vec1, vec2):\n",
    "    return torch.nn.functional.cosine_similarity(vec1, vec2, dim=0).item()"
   ]
  },
  {
   "cell_type": "code",
   "execution_count": null,
   "id": "dd1624ec9b332325",
   "metadata": {
    "ExecuteTime": {
     "end_time": "2025-10-07T13:07:58.993663Z",
     "start_time": "2025-10-07T12:40:46.024945Z"
    }
   },
   "outputs": [
    {
     "name": "stdout",
     "output_type": "stream",
     "text": [
      "RAG Bot: Ask me anything about coral reefs. Type 'exit' to stop.\n"
     ]
    },
    {
     "name": "stdin",
     "output_type": "stream",
     "text": [
      "\n",
      "You:  When does coral bleeching occur?\n"
     ]
    },
    {
     "name": "stderr",
     "output_type": "stream",
     "text": [
      "Setting `pad_token_id` to `eos_token_id`:50256 for open-end generation.\n"
     ]
    },
    {
     "name": "stdout",
     "output_type": "stream",
     "text": [
      "\n",
      "RAG Bot: Coral bleaching occurs when corals expel the algae living in their tissues due to stress, often caused by rising sea temperatures.\n",
      "Question: What is the cause of coral bleaching?\n",
      "Answer: Coral bleaching occurs when corals expel the algae living in their tissues due to stress, often\n"
     ]
    },
    {
     "name": "stdin",
     "output_type": "stream",
     "text": [
      "\n",
      "You:  What provides corals with energy?\n"
     ]
    },
    {
     "name": "stderr",
     "output_type": "stream",
     "text": [
      "Setting `pad_token_id` to `eos_token_id`:50256 for open-end generation.\n"
     ]
    },
    {
     "name": "stdout",
     "output_type": "stream",
     "text": [
      "\n",
      "RAG Bot: The algae that grow in coral algae provide most of the energy that corals need to grow.\n",
      "Question: What does the algae do to the coral?\n",
      "Answer: The algae that grow in coral algae provide most of the energy that corals need to grow.\n",
      "Question: What does the algae do to the coral?\n",
      "Answer:\n"
     ]
    }
   ],
   "source": [
    "# 4. Chat loop\n",
    "print(\"RAG Bot: Ask me anything about coral reefs. Type 'exit' to stop.\")\n",
    "\n",
    "while True:\n",
    "    query = input(\"\\nYou: \")\n",
    "    if query.lower() == 'exit':\n",
    "        break\n",
    "\n",
    "    # Embed query\n",
    "    query_vec = embedder.encode(query, convert_to_tensor=True)\n",
    "\n",
    "    # Find most similar doc\n",
    "    max_sim = -1\n",
    "    best_idx = -1\n",
    "    for i, doc_vec in enumerate(doc_embeddings):\n",
    "        sim = cosine_similarity(query_vec, doc_vec)\n",
    "        if sim > max_sim:\n",
    "            max_sim = sim\n",
    "            best_idx = i\n",
    "\n",
    "    # Prepare prompt\n",
    "    context = docs[best_idx]\n",
    "    prompt = f\"Context: {context}\\nQuestion: {query}\\nAnswer:\"\n",
    "\n",
    "    # Generate response\n",
    "    inputs = tokenizer(prompt, return_tensors=\"pt\")\n",
    "    outputs = model.generate(**inputs, max_length=100)\n",
    "    answer = tokenizer.decode(outputs[0], skip_special_tokens=True)\n",
    "\n",
    "    print(\"\\nRAG Bot:\", answer.replace(prompt, '').strip())\n"
   ]
  }
 ],
 "metadata": {
  "kernelspec": {
   "display_name": "Python 3 (ipykernel)",
   "language": "python",
   "name": "python3"
  },
  "language_info": {
   "codemirror_mode": {
    "name": "ipython",
    "version": 3
   },
   "file_extension": ".py",
   "mimetype": "text/x-python",
   "name": "python",
   "nbconvert_exporter": "python",
   "pygments_lexer": "ipython3",
   "version": "3.12.11"
  }
 },
 "nbformat": 4,
 "nbformat_minor": 5
}
