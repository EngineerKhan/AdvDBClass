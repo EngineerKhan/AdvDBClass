{
 "cells": [
  {
   "cell_type": "code",
   "id": "initial_id",
   "metadata": {
    "collapsed": true,
    "ExecuteTime": {
     "end_time": "2025-10-11T14:13:55.741178Z",
     "start_time": "2025-10-11T14:13:55.681732Z"
    }
   },
   "source": [
    "import os, json\n",
    "from pymongo import MongoClient\n",
    "\n",
    "client = MongoClient(\"mongodb://localhost:27017/\")\n",
    "db = client[\"scrappedData\"]\n",
    "\n",
    "folder = \"/Users/talha/Amazon-withFacts-NoQuery/storage/datasets/default\"\n",
    "collection = db[\"amazon\"]\n",
    "\n",
    "for filename in os.listdir(folder):\n",
    "    if filename.endswith(\".json\"):\n",
    "        with open(os.path.join(folder, filename), \"r\") as f:\n",
    "            data = json.load(f)\n",
    "\n",
    "        if isinstance(data, list):\n",
    "            collection.insert_many(data)\n",
    "        else:\n",
    "            collection.insert_one(data)\n",
    "\n",
    "        print(f\"Inserted {filename} into collection\")"
   ],
   "outputs": [
    {
     "name": "stdout",
     "output_type": "stream",
     "text": [
      "Inserted 000000038.json into collection\n",
      "Inserted 000000014.json into collection\n",
      "Inserted 000000043.json into collection\n",
      "Inserted 000000055.json into collection\n",
      "Inserted 000000002.json into collection\n",
      "Inserted 000000022.json into collection\n",
      "Inserted 000000034.json into collection\n",
      "Inserted 000000063.json into collection\n",
      "Inserted 000000018.json into collection\n",
      "Inserted 000000059.json into collection\n",
      "Inserted 000000058.json into collection\n",
      "Inserted 000000019.json into collection\n",
      "Inserted 000000062.json into collection\n",
      "Inserted 000000035.json into collection\n",
      "Inserted 000000023.json into collection\n",
      "Inserted 000000003.json into collection\n",
      "Inserted 000000054.json into collection\n",
      "Inserted 000000042.json into collection\n",
      "Inserted 000000015.json into collection\n",
      "Inserted 000000039.json into collection\n",
      "Inserted 000000024.json into collection\n",
      "Inserted 000000032.json into collection\n",
      "Inserted 000000049.json into collection\n",
      "Inserted 000000008.json into collection\n",
      "Inserted 000000028.json into collection\n",
      "Inserted 000000012.json into collection\n",
      "Inserted 000000045.json into collection\n",
      "Inserted 000000053.json into collection\n",
      "Inserted 000000004.json into collection\n",
      "Inserted 000000005.json into collection\n",
      "Inserted 000000052.json into collection\n",
      "Inserted 000000044.json into collection\n",
      "Inserted 000000013.json into collection\n",
      "Inserted 000000029.json into collection\n",
      "Inserted 000000009.json into collection\n",
      "Inserted 000000048.json into collection\n",
      "Inserted 000000033.json into collection\n",
      "Inserted 000000025.json into collection\n",
      "Inserted 000000030.json into collection\n",
      "Inserted 000000026.json into collection\n",
      "Inserted 000000006.json into collection\n",
      "Inserted 000000051.json into collection\n",
      "Inserted 000000047.json into collection\n",
      "Inserted 000000010.json into collection\n",
      "Inserted 000000011.json into collection\n",
      "Inserted 000000046.json into collection\n",
      "Inserted 000000050.json into collection\n",
      "Inserted 000000007.json into collection\n",
      "Inserted 000000027.json into collection\n",
      "Inserted 000000031.json into collection\n",
      "Inserted 000000057.json into collection\n",
      "Inserted 000000041.json into collection\n",
      "Inserted 000000016.json into collection\n",
      "Inserted 000000061.json into collection\n",
      "Inserted 000000036.json into collection\n",
      "Inserted 000000020.json into collection\n",
      "Inserted 000000021.json into collection\n",
      "Inserted 000000037.json into collection\n",
      "Inserted 000000060.json into collection\n",
      "Inserted 000000017.json into collection\n",
      "Inserted 000000040.json into collection\n",
      "Inserted 000000056.json into collection\n",
      "Inserted 000000001.json into collection\n"
     ]
    }
   ],
   "execution_count": 2
  }
 ],
 "metadata": {
  "kernelspec": {
   "display_name": "Python 3",
   "language": "python",
   "name": "python3"
  },
  "language_info": {
   "codemirror_mode": {
    "name": "ipython",
    "version": 2
   },
   "file_extension": ".py",
   "mimetype": "text/x-python",
   "name": "python",
   "nbconvert_exporter": "python",
   "pygments_lexer": "ipython2",
   "version": "2.7.6"
  }
 },
 "nbformat": 4,
 "nbformat_minor": 5
}
