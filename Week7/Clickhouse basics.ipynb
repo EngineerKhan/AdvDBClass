{
 "cells": [
  {
   "metadata": {
    "ExecuteTime": {
     "end_time": "2025-10-15T04:46:16.291200Z",
     "start_time": "2025-10-15T04:46:16.113533Z"
    }
   },
   "cell_type": "code",
   "source": [
    "from clickhouse_connect import get_client\n",
    "import pandas as pd\n",
    "\n",
    "client = get_client(host='localhost', username='default', password='123')\n",
    "\n",
    "print(\"Connected to ClickHouse server successfully!\")\n",
    "print(client.query('SELECT version()').result_rows)\n"
   ],
   "id": "aa587479b2fdbbf1",
   "outputs": [
    {
     "name": "stdout",
     "output_type": "stream",
     "text": [
      "Connected to ClickHouse server successfully!\n",
      "[('25.10.1.2351',)]\n"
     ]
    }
   ],
   "execution_count": 6
  },
  {
   "metadata": {
    "ExecuteTime": {
     "end_time": "2025-10-15T04:46:46.984593Z",
     "start_time": "2025-10-15T04:46:46.950956Z"
    }
   },
   "cell_type": "code",
   "source": [
    "client.command(\"CREATE DATABASE IF NOT EXISTS university_demo\")\n",
    "client.command(\"USE university_demo\")\n",
    "print(\"Database 'university_demo' created and selected.\")"
   ],
   "id": "6dd0b0b77edc3de6",
   "outputs": [
    {
     "name": "stdout",
     "output_type": "stream",
     "text": [
      "Database 'university_demo' created and selected.\n"
     ]
    }
   ],
   "execution_count": 7
  },
  {
   "metadata": {
    "ExecuteTime": {
     "end_time": "2025-10-15T04:47:20.674091Z",
     "start_time": "2025-10-15T04:47:20.632602Z"
    }
   },
   "cell_type": "code",
   "source": [
    "\n",
    "client.command(\"\"\"\n",
    "CREATE TABLE IF NOT EXISTS university_demo.students (\n",
    "    student_id UUID DEFAULT generateUUIDv4(),\n",
    "    name String,\n",
    "    age UInt8,\n",
    "    country String\n",
    ") ENGINE = MergeTree()\n",
    "ORDER BY (name);\n",
    "\"\"\")\n",
    "\n",
    "# Courses table\n",
    "client.command(\"\"\"\n",
    "CREATE TABLE IF NOT EXISTS university_demo.courses (\n",
    "    course_id UUID DEFAULT generateUUIDv4(),\n",
    "    title String,\n",
    "    department String\n",
    ") ENGINE = MergeTree()\n",
    "ORDER BY (department, title);\n",
    "\"\"\")\n",
    "\n",
    "# Enrollments table (joins students to courses)\n",
    "client.command(\"\"\"\n",
    "CREATE TABLE IF NOT EXISTS university_demo.enrollments (\n",
    "    enroll_id UUID DEFAULT generateUUIDv4(),\n",
    "    student_id UUID,\n",
    "    course_id UUID,\n",
    "    grade Float32\n",
    ") ENGINE = MergeTree()\n",
    "ORDER BY (student_id, course_id);\n",
    "\"\"\")\n",
    "\n",
    "print(\"Created tables: students, courses, enrollments.\")"
   ],
   "id": "3072eb129742a8ef",
   "outputs": [
    {
     "name": "stdout",
     "output_type": "stream",
     "text": [
      "Created tables: students, courses, enrollments.\n"
     ]
    }
   ],
   "execution_count": 8
  },
  {
   "metadata": {
    "ExecuteTime": {
     "end_time": "2025-10-15T04:48:36.288180Z",
     "start_time": "2025-10-15T04:48:36.247727Z"
    }
   },
   "cell_type": "code",
   "source": "client.command(\"SELECT * FROM university_demo.students\")",
   "id": "76fc0756a8195531",
   "outputs": [
    {
     "data": {
      "text/plain": [
       "['437f9531-4267-413f-90a2-744d85a752c4',\n",
       " 'Alice',\n",
       " '22',\n",
       " 'UK\\n5a5f051b-3f94-4289-8b89-2c008911bc18',\n",
       " 'Alice',\n",
       " '22',\n",
       " 'UK\\nab9f1922-3a54-4eb5-91b1-7d62144fd046',\n",
       " 'Bob',\n",
       " '24',\n",
       " 'USA\\n408395eb-a956-4fd5-8a90-ac6af7f3c7aa',\n",
       " 'Bob',\n",
       " '24',\n",
       " 'USA\\n3e3649dc-48d3-4e0a-ac46-462e3bbba79c',\n",
       " 'Carlos',\n",
       " '23',\n",
       " 'Spain\\n5d482139-2cea-4c72-a2c9-711c3e04a0e3',\n",
       " 'Carlos',\n",
       " '23',\n",
       " 'Spain\\n5d7e9497-e9dd-4848-9b12-8343023d5a1d',\n",
       " 'Diana',\n",
       " '21',\n",
       " 'Germany\\nb713dcc5-3196-4f13-8f83-156fd70c215c',\n",
       " 'Diana',\n",
       " '21',\n",
       " 'Germany']"
      ]
     },
     "execution_count": 10,
     "metadata": {},
     "output_type": "execute_result"
    }
   ],
   "execution_count": 10
  },
  {
   "metadata": {
    "ExecuteTime": {
     "end_time": "2025-10-15T04:51:08.303637Z",
     "start_time": "2025-10-15T04:51:08.212214Z"
    }
   },
   "cell_type": "code",
   "source": [
    "students = [\n",
    "    (\"Ahsan\", 22, \"UAE\"),\n",
    "    (\"Bilal\", 24, \"KSA\"),\n",
    "    (\"Chaudhary\", 23, \"India\"),\n",
    "    (\"Daaim\", 21, \"Pakistan\"),\n",
    "]\n",
    "client.insert(\"university_demo.students\", students, column_names=[\"name\", \"age\", \"country\"])\n",
    "print(\"Inserted student data.\")"
   ],
   "id": "4418026289e065ae",
   "outputs": [
    {
     "name": "stdout",
     "output_type": "stream",
     "text": [
      "Inserted student data.\n"
     ]
    }
   ],
   "execution_count": 11
  },
  {
   "metadata": {
    "ExecuteTime": {
     "end_time": "2025-10-15T04:51:43.399878Z",
     "start_time": "2025-10-15T04:51:43.298119Z"
    }
   },
   "cell_type": "code",
   "source": "client.query_df(\"SELECT * FROM university_demo.students\")",
   "id": "128e5437bd7197f7",
   "outputs": [
    {
     "data": {
      "text/plain": [
       "                              student_id       name  age   country\n",
       "0   437f9531-4267-413f-90a2-744d85a752c4      Alice   22        UK\n",
       "1   5a5f051b-3f94-4289-8b89-2c008911bc18      Alice   22        UK\n",
       "2   ab9f1922-3a54-4eb5-91b1-7d62144fd046        Bob   24       USA\n",
       "3   408395eb-a956-4fd5-8a90-ac6af7f3c7aa        Bob   24       USA\n",
       "4   3e3649dc-48d3-4e0a-ac46-462e3bbba79c     Carlos   23     Spain\n",
       "5   5d482139-2cea-4c72-a2c9-711c3e04a0e3     Carlos   23     Spain\n",
       "6   5d7e9497-e9dd-4848-9b12-8343023d5a1d      Diana   21   Germany\n",
       "7   b713dcc5-3196-4f13-8f83-156fd70c215c      Diana   21   Germany\n",
       "8   ba73bacd-145b-42c1-92b5-ef697e0e1c7c      Ahsan   22       UAE\n",
       "9   a26984c1-41c5-438c-bab9-8c13aac0eaa7      Bilal   24       KSA\n",
       "10  d72277f2-93fb-4afc-9c82-2f27633b7890  Chaudhary   23     India\n",
       "11  60aa31b2-70b6-4393-aaa5-8691366c898e      Daaim   21  Pakistan"
      ],
      "text/html": [
       "<div>\n",
       "<style scoped>\n",
       "    .dataframe tbody tr th:only-of-type {\n",
       "        vertical-align: middle;\n",
       "    }\n",
       "\n",
       "    .dataframe tbody tr th {\n",
       "        vertical-align: top;\n",
       "    }\n",
       "\n",
       "    .dataframe thead th {\n",
       "        text-align: right;\n",
       "    }\n",
       "</style>\n",
       "<table border=\"1\" class=\"dataframe\">\n",
       "  <thead>\n",
       "    <tr style=\"text-align: right;\">\n",
       "      <th></th>\n",
       "      <th>student_id</th>\n",
       "      <th>name</th>\n",
       "      <th>age</th>\n",
       "      <th>country</th>\n",
       "    </tr>\n",
       "  </thead>\n",
       "  <tbody>\n",
       "    <tr>\n",
       "      <th>0</th>\n",
       "      <td>437f9531-4267-413f-90a2-744d85a752c4</td>\n",
       "      <td>Alice</td>\n",
       "      <td>22</td>\n",
       "      <td>UK</td>\n",
       "    </tr>\n",
       "    <tr>\n",
       "      <th>1</th>\n",
       "      <td>5a5f051b-3f94-4289-8b89-2c008911bc18</td>\n",
       "      <td>Alice</td>\n",
       "      <td>22</td>\n",
       "      <td>UK</td>\n",
       "    </tr>\n",
       "    <tr>\n",
       "      <th>2</th>\n",
       "      <td>ab9f1922-3a54-4eb5-91b1-7d62144fd046</td>\n",
       "      <td>Bob</td>\n",
       "      <td>24</td>\n",
       "      <td>USA</td>\n",
       "    </tr>\n",
       "    <tr>\n",
       "      <th>3</th>\n",
       "      <td>408395eb-a956-4fd5-8a90-ac6af7f3c7aa</td>\n",
       "      <td>Bob</td>\n",
       "      <td>24</td>\n",
       "      <td>USA</td>\n",
       "    </tr>\n",
       "    <tr>\n",
       "      <th>4</th>\n",
       "      <td>3e3649dc-48d3-4e0a-ac46-462e3bbba79c</td>\n",
       "      <td>Carlos</td>\n",
       "      <td>23</td>\n",
       "      <td>Spain</td>\n",
       "    </tr>\n",
       "    <tr>\n",
       "      <th>5</th>\n",
       "      <td>5d482139-2cea-4c72-a2c9-711c3e04a0e3</td>\n",
       "      <td>Carlos</td>\n",
       "      <td>23</td>\n",
       "      <td>Spain</td>\n",
       "    </tr>\n",
       "    <tr>\n",
       "      <th>6</th>\n",
       "      <td>5d7e9497-e9dd-4848-9b12-8343023d5a1d</td>\n",
       "      <td>Diana</td>\n",
       "      <td>21</td>\n",
       "      <td>Germany</td>\n",
       "    </tr>\n",
       "    <tr>\n",
       "      <th>7</th>\n",
       "      <td>b713dcc5-3196-4f13-8f83-156fd70c215c</td>\n",
       "      <td>Diana</td>\n",
       "      <td>21</td>\n",
       "      <td>Germany</td>\n",
       "    </tr>\n",
       "    <tr>\n",
       "      <th>8</th>\n",
       "      <td>ba73bacd-145b-42c1-92b5-ef697e0e1c7c</td>\n",
       "      <td>Ahsan</td>\n",
       "      <td>22</td>\n",
       "      <td>UAE</td>\n",
       "    </tr>\n",
       "    <tr>\n",
       "      <th>9</th>\n",
       "      <td>a26984c1-41c5-438c-bab9-8c13aac0eaa7</td>\n",
       "      <td>Bilal</td>\n",
       "      <td>24</td>\n",
       "      <td>KSA</td>\n",
       "    </tr>\n",
       "    <tr>\n",
       "      <th>10</th>\n",
       "      <td>d72277f2-93fb-4afc-9c82-2f27633b7890</td>\n",
       "      <td>Chaudhary</td>\n",
       "      <td>23</td>\n",
       "      <td>India</td>\n",
       "    </tr>\n",
       "    <tr>\n",
       "      <th>11</th>\n",
       "      <td>60aa31b2-70b6-4393-aaa5-8691366c898e</td>\n",
       "      <td>Daaim</td>\n",
       "      <td>21</td>\n",
       "      <td>Pakistan</td>\n",
       "    </tr>\n",
       "  </tbody>\n",
       "</table>\n",
       "</div>"
      ]
     },
     "execution_count": 13,
     "metadata": {},
     "output_type": "execute_result"
    }
   ],
   "execution_count": 13
  },
  {
   "metadata": {
    "ExecuteTime": {
     "end_time": "2025-10-15T04:51:16.711621Z",
     "start_time": "2025-10-15T04:51:16.529173Z"
    }
   },
   "cell_type": "code",
   "source": [
    "import pandas as pd\n",
    "\n",
    "x = client.command(\"\"\"SELECT * FROM university_demo.students\n",
    "\"\"\")\n",
    "\n",
    "df = pd.DataFrame(x)\n",
    "\n",
    "df"
   ],
   "id": "ffda14614bd63734",
   "outputs": [
    {
     "data": {
      "text/plain": [
       "                                                 0\n",
       "0             ba73bacd-145b-42c1-92b5-ef697e0e1c7c\n",
       "1                                            Ahsan\n",
       "2                                               22\n",
       "3        UAE\\na26984c1-41c5-438c-bab9-8c13aac0eaa7\n",
       "4                                            Bilal\n",
       "5                                               24\n",
       "6        KSA\\nd72277f2-93fb-4afc-9c82-2f27633b7890\n",
       "7                                        Chaudhary\n",
       "8                                               23\n",
       "9      India\\n60aa31b2-70b6-4393-aaa5-8691366c898e\n",
       "10                                           Daaim\n",
       "11                                              21\n",
       "12  Pakistan\\n437f9531-4267-413f-90a2-744d85a752c4\n",
       "13                                           Alice\n",
       "14                                              22\n",
       "15        UK\\n5a5f051b-3f94-4289-8b89-2c008911bc18\n",
       "16                                           Alice\n",
       "17                                              22\n",
       "18        UK\\nab9f1922-3a54-4eb5-91b1-7d62144fd046\n",
       "19                                             Bob\n",
       "20                                              24\n",
       "21       USA\\n408395eb-a956-4fd5-8a90-ac6af7f3c7aa\n",
       "22                                             Bob\n",
       "23                                              24\n",
       "24       USA\\n3e3649dc-48d3-4e0a-ac46-462e3bbba79c\n",
       "25                                          Carlos\n",
       "26                                              23\n",
       "27     Spain\\n5d482139-2cea-4c72-a2c9-711c3e04a0e3\n",
       "28                                          Carlos\n",
       "29                                              23\n",
       "30     Spain\\n5d7e9497-e9dd-4848-9b12-8343023d5a1d\n",
       "31                                           Diana\n",
       "32                                              21\n",
       "33   Germany\\nb713dcc5-3196-4f13-8f83-156fd70c215c\n",
       "34                                           Diana\n",
       "35                                              21\n",
       "36                                         Germany"
      ],
      "text/html": [
       "<div>\n",
       "<style scoped>\n",
       "    .dataframe tbody tr th:only-of-type {\n",
       "        vertical-align: middle;\n",
       "    }\n",
       "\n",
       "    .dataframe tbody tr th {\n",
       "        vertical-align: top;\n",
       "    }\n",
       "\n",
       "    .dataframe thead th {\n",
       "        text-align: right;\n",
       "    }\n",
       "</style>\n",
       "<table border=\"1\" class=\"dataframe\">\n",
       "  <thead>\n",
       "    <tr style=\"text-align: right;\">\n",
       "      <th></th>\n",
       "      <th>0</th>\n",
       "    </tr>\n",
       "  </thead>\n",
       "  <tbody>\n",
       "    <tr>\n",
       "      <th>0</th>\n",
       "      <td>ba73bacd-145b-42c1-92b5-ef697e0e1c7c</td>\n",
       "    </tr>\n",
       "    <tr>\n",
       "      <th>1</th>\n",
       "      <td>Ahsan</td>\n",
       "    </tr>\n",
       "    <tr>\n",
       "      <th>2</th>\n",
       "      <td>22</td>\n",
       "    </tr>\n",
       "    <tr>\n",
       "      <th>3</th>\n",
       "      <td>UAE\\na26984c1-41c5-438c-bab9-8c13aac0eaa7</td>\n",
       "    </tr>\n",
       "    <tr>\n",
       "      <th>4</th>\n",
       "      <td>Bilal</td>\n",
       "    </tr>\n",
       "    <tr>\n",
       "      <th>5</th>\n",
       "      <td>24</td>\n",
       "    </tr>\n",
       "    <tr>\n",
       "      <th>6</th>\n",
       "      <td>KSA\\nd72277f2-93fb-4afc-9c82-2f27633b7890</td>\n",
       "    </tr>\n",
       "    <tr>\n",
       "      <th>7</th>\n",
       "      <td>Chaudhary</td>\n",
       "    </tr>\n",
       "    <tr>\n",
       "      <th>8</th>\n",
       "      <td>23</td>\n",
       "    </tr>\n",
       "    <tr>\n",
       "      <th>9</th>\n",
       "      <td>India\\n60aa31b2-70b6-4393-aaa5-8691366c898e</td>\n",
       "    </tr>\n",
       "    <tr>\n",
       "      <th>10</th>\n",
       "      <td>Daaim</td>\n",
       "    </tr>\n",
       "    <tr>\n",
       "      <th>11</th>\n",
       "      <td>21</td>\n",
       "    </tr>\n",
       "    <tr>\n",
       "      <th>12</th>\n",
       "      <td>Pakistan\\n437f9531-4267-413f-90a2-744d85a752c4</td>\n",
       "    </tr>\n",
       "    <tr>\n",
       "      <th>13</th>\n",
       "      <td>Alice</td>\n",
       "    </tr>\n",
       "    <tr>\n",
       "      <th>14</th>\n",
       "      <td>22</td>\n",
       "    </tr>\n",
       "    <tr>\n",
       "      <th>15</th>\n",
       "      <td>UK\\n5a5f051b-3f94-4289-8b89-2c008911bc18</td>\n",
       "    </tr>\n",
       "    <tr>\n",
       "      <th>16</th>\n",
       "      <td>Alice</td>\n",
       "    </tr>\n",
       "    <tr>\n",
       "      <th>17</th>\n",
       "      <td>22</td>\n",
       "    </tr>\n",
       "    <tr>\n",
       "      <th>18</th>\n",
       "      <td>UK\\nab9f1922-3a54-4eb5-91b1-7d62144fd046</td>\n",
       "    </tr>\n",
       "    <tr>\n",
       "      <th>19</th>\n",
       "      <td>Bob</td>\n",
       "    </tr>\n",
       "    <tr>\n",
       "      <th>20</th>\n",
       "      <td>24</td>\n",
       "    </tr>\n",
       "    <tr>\n",
       "      <th>21</th>\n",
       "      <td>USA\\n408395eb-a956-4fd5-8a90-ac6af7f3c7aa</td>\n",
       "    </tr>\n",
       "    <tr>\n",
       "      <th>22</th>\n",
       "      <td>Bob</td>\n",
       "    </tr>\n",
       "    <tr>\n",
       "      <th>23</th>\n",
       "      <td>24</td>\n",
       "    </tr>\n",
       "    <tr>\n",
       "      <th>24</th>\n",
       "      <td>USA\\n3e3649dc-48d3-4e0a-ac46-462e3bbba79c</td>\n",
       "    </tr>\n",
       "    <tr>\n",
       "      <th>25</th>\n",
       "      <td>Carlos</td>\n",
       "    </tr>\n",
       "    <tr>\n",
       "      <th>26</th>\n",
       "      <td>23</td>\n",
       "    </tr>\n",
       "    <tr>\n",
       "      <th>27</th>\n",
       "      <td>Spain\\n5d482139-2cea-4c72-a2c9-711c3e04a0e3</td>\n",
       "    </tr>\n",
       "    <tr>\n",
       "      <th>28</th>\n",
       "      <td>Carlos</td>\n",
       "    </tr>\n",
       "    <tr>\n",
       "      <th>29</th>\n",
       "      <td>23</td>\n",
       "    </tr>\n",
       "    <tr>\n",
       "      <th>30</th>\n",
       "      <td>Spain\\n5d7e9497-e9dd-4848-9b12-8343023d5a1d</td>\n",
       "    </tr>\n",
       "    <tr>\n",
       "      <th>31</th>\n",
       "      <td>Diana</td>\n",
       "    </tr>\n",
       "    <tr>\n",
       "      <th>32</th>\n",
       "      <td>21</td>\n",
       "    </tr>\n",
       "    <tr>\n",
       "      <th>33</th>\n",
       "      <td>Germany\\nb713dcc5-3196-4f13-8f83-156fd70c215c</td>\n",
       "    </tr>\n",
       "    <tr>\n",
       "      <th>34</th>\n",
       "      <td>Diana</td>\n",
       "    </tr>\n",
       "    <tr>\n",
       "      <th>35</th>\n",
       "      <td>21</td>\n",
       "    </tr>\n",
       "    <tr>\n",
       "      <th>36</th>\n",
       "      <td>Germany</td>\n",
       "    </tr>\n",
       "  </tbody>\n",
       "</table>\n",
       "</div>"
      ]
     },
     "execution_count": 12,
     "metadata": {},
     "output_type": "execute_result"
    }
   ],
   "execution_count": 12
  },
  {
   "metadata": {
    "ExecuteTime": {
     "end_time": "2025-10-13T08:28:03.316970Z",
     "start_time": "2025-10-13T08:28:03.228313Z"
    }
   },
   "cell_type": "code",
   "source": [
    "# ============================================\n",
    "# 4. Insert data\n",
    "# ============================================\n",
    "\n",
    "# Insert students\n",
    "\n",
    "\n",
    "# Insert courses\n",
    "courses = [\n",
    "    (\"Databases\", \"Computer Science\"),\n",
    "    (\"Machine Learning\", \"Computer Science\"),\n",
    "    (\"Econometrics\", \"Economics\"),\n",
    "    (\"Marketing\", \"Business\"),\n",
    "]\n",
    "client.insert(\"university_demo.courses\", courses, column_names=[\"title\", \"department\"])\n",
    "print(\"📚 Inserted course data.\")\n",
    "\n",
    "# Fetch the generated UUIDs for joining\n",
    "students_df = client.query_df(\"SELECT * FROM university_demo.students\")\n",
    "courses_df = client.query_df(\"SELECT * FROM university_demo.courses\")\n",
    "\n",
    "print(\"🎓 Students Table:\")\n",
    "print(students_df)\n",
    "print(\"📘 Courses Table:\")\n",
    "print(courses_df)\n",
    "\n",
    "# Map some enrollments\n",
    "enrollments = [\n",
    "    (students_df.loc[0, \"student_id\"], courses_df.loc[0, \"course_id\"], 95.0),\n",
    "    (students_df.loc[1, \"student_id\"], courses_df.loc[1, \"course_id\"], 88.0),\n",
    "    (students_df.loc[2, \"student_id\"], courses_df.loc[0, \"course_id\"], 92.5),\n",
    "    (students_df.loc[3, \"student_id\"], courses_df.loc[2, \"course_id\"], 76.5),\n",
    "]\n",
    "client.insert(\"university_demo.enrollments\", enrollments, column_names=[\"student_id\", \"course_id\", \"grade\"])\n",
    "print(\"🧾 Inserted enrollments data.\")"
   ],
   "id": "d9ee3ac4a27adfc9",
   "outputs": [
    {
     "name": "stdout",
     "output_type": "stream",
     "text": [
      "👩‍🎓 Inserted student data.\n",
      "📚 Inserted course data.\n",
      "🎓 Students Table:\n",
      "                             student_id    name  age  country\n",
      "0  437f9531-4267-413f-90a2-744d85a752c4   Alice   22       UK\n",
      "1  ab9f1922-3a54-4eb5-91b1-7d62144fd046     Bob   24      USA\n",
      "2  3e3649dc-48d3-4e0a-ac46-462e3bbba79c  Carlos   23    Spain\n",
      "3  5d7e9497-e9dd-4848-9b12-8343023d5a1d   Diana   21  Germany\n",
      "📘 Courses Table:\n",
      "                              course_id             title        department\n",
      "0  f14c6518-7345-4c06-9b59-ed767fb13577         Marketing          Business\n",
      "1  28a8a896-a274-4fe6-bef1-851f9b93adfb         Databases  Computer Science\n",
      "2  5bf4800d-8e2d-472b-bc0c-e04a4ea2b090  Machine Learning  Computer Science\n",
      "3  e4e82a5f-b9cc-492e-b891-0d3fd8e01949      Econometrics         Economics\n",
      "🧾 Inserted enrollments data.\n"
     ]
    }
   ],
   "execution_count": 4
  },
  {
   "metadata": {
    "ExecuteTime": {
     "end_time": "2025-10-13T08:28:15.307621Z",
     "start_time": "2025-10-13T08:28:15.271797Z"
    }
   },
   "cell_type": "code",
   "source": [
    "# ============================================\n",
    "# 5. Query examples\n",
    "# ============================================\n",
    "\n",
    "# Select all students\n",
    "print(\"\\n👀 All Students:\")\n",
    "print(client.query_df(\"SELECT name, age, country FROM university_demo.students\"))\n",
    "\n",
    "# Simple join between students and enrollments\n",
    "print(\"\\n🔗 Join Example (Students + Enrollments):\")\n",
    "join_df = client.query_df(\"\"\"\n",
    "SELECT s.name, s.country, c.title, e.grade\n",
    "FROM university_demo.enrollments e\n",
    "JOIN university_demo.students s ON e.student_id = s.student_id\n",
    "JOIN university_demo.courses c ON e.course_id = c.course_id\n",
    "ORDER BY s.name\n",
    "\"\"\")\n",
    "print(join_df)"
   ],
   "id": "8bcd8403ba6052f",
   "outputs": [
    {
     "name": "stdout",
     "output_type": "stream",
     "text": [
      "\n",
      "👀 All Students:\n",
      "     name  age  country\n",
      "0   Alice   22       UK\n",
      "1     Bob   24      USA\n",
      "2  Carlos   23    Spain\n",
      "3   Diana   21  Germany\n",
      "\n",
      "🔗 Join Example (Students + Enrollments):\n",
      "     name  country             title  grade\n",
      "0   Alice       UK         Marketing   95.0\n",
      "1     Bob      USA         Databases   88.0\n",
      "2  Carlos    Spain         Marketing   92.5\n",
      "3   Diana  Germany  Machine Learning   76.5\n"
     ]
    }
   ],
   "execution_count": 5
  },
  {
   "metadata": {
    "ExecuteTime": {
     "end_time": "2025-10-13T08:28:37.648026Z",
     "start_time": "2025-10-13T08:28:37.629155Z"
    }
   },
   "cell_type": "code",
   "source": [
    "# Aggregation: Average grade by country\n",
    "print(\"\\n📊 Average Grade by Country:\")\n",
    "avg_grade_df = client.query_df(\"\"\"\n",
    "SELECT s.country, avg(e.grade) AS avg_grade\n",
    "FROM university_demo.enrollments e\n",
    "JOIN university_demo.students s ON e.student_id = s.student_id\n",
    "GROUP BY s.country\n",
    "ORDER BY avg_grade DESC\n",
    "\"\"\")\n",
    "print(avg_grade_df)"
   ],
   "id": "d98a6890d049565f",
   "outputs": [
    {
     "name": "stdout",
     "output_type": "stream",
     "text": [
      "\n",
      "📊 Average Grade by Country:\n",
      "   country  avg_grade\n",
      "0       UK       95.0\n",
      "1    Spain       92.5\n",
      "2      USA       88.0\n",
      "3  Germany       76.5\n"
     ]
    }
   ],
   "execution_count": 6
  },
  {
   "metadata": {
    "ExecuteTime": {
     "end_time": "2025-10-13T08:28:39.361605Z",
     "start_time": "2025-10-13T08:28:39.351515Z"
    }
   },
   "cell_type": "code",
   "source": [
    "# ============================================\n",
    "# 6. UUID Example\n",
    "# ============================================\n",
    "print(\"\\n🆔 Example of UUID usage:\")\n",
    "uuid_example = client.query_df(\"SELECT generateUUIDv4() AS new_uuid\")\n",
    "print(uuid_example)\n",
    "\n",
    "# ============================================\n",
    "# 7. Clean up (optional)\n",
    "# ============================================\n",
    "# Uncomment if you want to remove all demo tables\n",
    "# client.command(\"DROP DATABASE IF EXISTS university_demo\")\n",
    "# print(\"🧹 Cleaned up demo database.\")"
   ],
   "id": "2d3fda3814dfb6b6",
   "outputs": [
    {
     "name": "stdout",
     "output_type": "stream",
     "text": [
      "\n",
      "🆔 Example of UUID usage:\n",
      "                               new_uuid\n",
      "0  0c001555-459b-4e07-a37f-b06056bf1b2b\n"
     ]
    }
   ],
   "execution_count": 7
  },
  {
   "metadata": {
    "ExecuteTime": {
     "end_time": "2025-10-13T10:53:03.240351Z",
     "start_time": "2025-10-13T10:53:02.923855Z"
    }
   },
   "cell_type": "code",
   "source": [
    "client.query(\"\"\"\n",
    "CREATE TABLE [IF NOT EXISTS] [db.]table_name [ON CLUSTER cluster]\n",
    "(\n",
    "    name1 [type1] [[NOT] NULL] [DEFAULT|MATERIALIZED|ALIAS|EPHEMERAL expr1] [COMMENT ...] [CODEC(codec1)] [STATISTICS(stat1)] [TTL expr1] [PRIMARY KEY] [SETTINGS (name = value, ...)],\n",
    "    name2 [type2] [[NOT] NULL] [DEFAULT|MATERIALIZED|ALIAS|EPHEMERAL expr2] [COMMENT ...] [CODEC(codec2)] [STATISTICS(stat2)] [TTL expr2] [PRIMARY KEY] [SETTINGS (name = value, ...)],\n",
    "    ...\n",
    "    INDEX index_name1 expr1 TYPE type1(...) [GRANULARITY value1],\n",
    "    INDEX index_name2 expr2 TYPE type2(...) [GRANULARITY value2],\n",
    "    ...\n",
    "    PROJECTION projection_name_1 (SELECT <COLUMN LIST EXPR> [GROUP BY] [ORDER BY]),\n",
    "    PROJECTION projection_name_2 (SELECT <COLUMN LIST EXPR> [GROUP BY] [ORDER BY])\n",
    ") ENGINE = MergeTree()\n",
    "ORDER BY expr\n",
    "[PARTITION BY expr]\n",
    "[PRIMARY KEY expr]\n",
    "[SAMPLE BY expr]\n",
    "[TTL expr\n",
    "    [DELETE|TO DISK 'xxx'|TO VOLUME 'xxx' [, ...] ]\n",
    "    [WHERE conditions]\n",
    "    [GROUP BY key_expr [SET v1 = aggr_func(v1) [, v2 = aggr_func(v2) ...]] ] ]\n",
    "[SETTINGS name = value, ...]\"\"\")"
   ],
   "id": "4da011ea30c02cef",
   "outputs": [
    {
     "ename": "DatabaseError",
     "evalue": "Received ClickHouse exception, code: 62, server response: Code: 62. DB::Exception: Syntax error: failed at position 15 ([) (line 2, col 14): [IF NOT EXISTS] [db.]table_name [ON CLUSTER cluster]\n(\n    name1 [type1] [[NOT] NULL] [DEFAULT|MATERIALIZED|ALIAS|EPHEMERAL expr1] [COMMENT ...] [CODEC(codec1)] [... Expected one of: IF NOT EXISTS, compound identifier, identifier. (SYNTAX_ERROR) (version 25.10.1.2351 (official build)) (for url http://localhost:8123)",
     "output_type": "error",
     "traceback": [
      "\u001B[31m---------------------------------------------------------------------------\u001B[39m",
      "\u001B[31mDatabaseError\u001B[39m                             Traceback (most recent call last)",
      "\u001B[36mCell\u001B[39m\u001B[36m \u001B[39m\u001B[32mIn[8]\u001B[39m\u001B[32m, line 1\u001B[39m\n\u001B[32m----> \u001B[39m\u001B[32m1\u001B[39m \u001B[43mclient\u001B[49m\u001B[43m.\u001B[49m\u001B[43mquery\u001B[49m\u001B[43m(\u001B[49m\u001B[33;43m\"\"\"\u001B[39;49m\n\u001B[32m      2\u001B[39m \u001B[33;43mCREATE TABLE [IF NOT EXISTS] [db.]table_name [ON CLUSTER cluster]\u001B[39;49m\n\u001B[32m      3\u001B[39m \u001B[33;43m(\u001B[39;49m\n\u001B[32m      4\u001B[39m \u001B[33;43m    name1 [type1] [[NOT] NULL] [DEFAULT|MATERIALIZED|ALIAS|EPHEMERAL expr1] [COMMENT ...] [CODEC(codec1)] [STATISTICS(stat1)] [TTL expr1] [PRIMARY KEY] [SETTINGS (name = value, ...)],\u001B[39;49m\n\u001B[32m      5\u001B[39m \u001B[33;43m    name2 [type2] [[NOT] NULL] [DEFAULT|MATERIALIZED|ALIAS|EPHEMERAL expr2] [COMMENT ...] [CODEC(codec2)] [STATISTICS(stat2)] [TTL expr2] [PRIMARY KEY] [SETTINGS (name = value, ...)],\u001B[39;49m\n\u001B[32m      6\u001B[39m \u001B[33;43m    ...\u001B[39;49m\n\u001B[32m      7\u001B[39m \u001B[33;43m    INDEX index_name1 expr1 TYPE type1(...) [GRANULARITY value1],\u001B[39;49m\n\u001B[32m      8\u001B[39m \u001B[33;43m    INDEX index_name2 expr2 TYPE type2(...) [GRANULARITY value2],\u001B[39;49m\n\u001B[32m      9\u001B[39m \u001B[33;43m    ...\u001B[39;49m\n\u001B[32m     10\u001B[39m \u001B[33;43m    PROJECTION projection_name_1 (SELECT <COLUMN LIST EXPR> [GROUP BY] [ORDER BY]),\u001B[39;49m\n\u001B[32m     11\u001B[39m \u001B[33;43m    PROJECTION projection_name_2 (SELECT <COLUMN LIST EXPR> [GROUP BY] [ORDER BY])\u001B[39;49m\n\u001B[32m     12\u001B[39m \u001B[33;43m) ENGINE = MergeTree()\u001B[39;49m\n\u001B[32m     13\u001B[39m \u001B[33;43mORDER BY expr\u001B[39;49m\n\u001B[32m     14\u001B[39m \u001B[33;43m[PARTITION BY expr]\u001B[39;49m\n\u001B[32m     15\u001B[39m \u001B[33;43m[PRIMARY KEY expr]\u001B[39;49m\n\u001B[32m     16\u001B[39m \u001B[33;43m[SAMPLE BY expr]\u001B[39;49m\n\u001B[32m     17\u001B[39m \u001B[33;43m[TTL expr\u001B[39;49m\n\u001B[32m     18\u001B[39m \u001B[33;43m    [DELETE|TO DISK \u001B[39;49m\u001B[33;43m'\u001B[39;49m\u001B[33;43mxxx\u001B[39;49m\u001B[33;43m'\u001B[39;49m\u001B[33;43m|TO VOLUME \u001B[39;49m\u001B[33;43m'\u001B[39;49m\u001B[33;43mxxx\u001B[39;49m\u001B[33;43m'\u001B[39;49m\u001B[33;43m [, ...] ]\u001B[39;49m\n\u001B[32m     19\u001B[39m \u001B[33;43m    [WHERE conditions]\u001B[39;49m\n\u001B[32m     20\u001B[39m \u001B[33;43m    [GROUP BY key_expr [SET v1 = aggr_func(v1) [, v2 = aggr_func(v2) ...]] ] ]\u001B[39;49m\n\u001B[32m     21\u001B[39m \u001B[33;43m[SETTINGS name = value, ...]\u001B[39;49m\u001B[33;43m\"\"\"\u001B[39;49m\u001B[43m)\u001B[49m\n",
      "\u001B[36mFile \u001B[39m\u001B[32m/opt/anaconda3/envs/RAGSystems/lib/python3.12/site-packages/clickhouse_connect/driver/client.py:230\u001B[39m, in \u001B[36mClient.query\u001B[39m\u001B[34m(self, query, parameters, settings, query_formats, column_formats, encoding, use_none, column_oriented, use_numpy, max_str_len, context, query_tz, column_tzs, external_data, transport_settings)\u001B[39m\n\u001B[32m    228\u001B[39m query_context = \u001B[38;5;28mself\u001B[39m.create_query_context(**kwargs)\n\u001B[32m    229\u001B[39m \u001B[38;5;28;01mif\u001B[39;00m query_context.is_command:\n\u001B[32m--> \u001B[39m\u001B[32m230\u001B[39m     response = \u001B[38;5;28;43mself\u001B[39;49m\u001B[43m.\u001B[49m\u001B[43mcommand\u001B[49m\u001B[43m(\u001B[49m\u001B[43mquery\u001B[49m\u001B[43m,\u001B[49m\n\u001B[32m    231\u001B[39m \u001B[43m                            \u001B[49m\u001B[43mparameters\u001B[49m\u001B[43m=\u001B[49m\u001B[43mquery_context\u001B[49m\u001B[43m.\u001B[49m\u001B[43mparameters\u001B[49m\u001B[43m,\u001B[49m\n\u001B[32m    232\u001B[39m \u001B[43m                            \u001B[49m\u001B[43msettings\u001B[49m\u001B[43m=\u001B[49m\u001B[43mquery_context\u001B[49m\u001B[43m.\u001B[49m\u001B[43msettings\u001B[49m\u001B[43m,\u001B[49m\n\u001B[32m    233\u001B[39m \u001B[43m                            \u001B[49m\u001B[43mexternal_data\u001B[49m\u001B[43m=\u001B[49m\u001B[43mquery_context\u001B[49m\u001B[43m.\u001B[49m\u001B[43mexternal_data\u001B[49m\u001B[43m,\u001B[49m\n\u001B[32m    234\u001B[39m \u001B[43m                            \u001B[49m\u001B[43mtransport_settings\u001B[49m\u001B[43m=\u001B[49m\u001B[43mquery_context\u001B[49m\u001B[43m.\u001B[49m\u001B[43mtransport_settings\u001B[49m\u001B[43m)\u001B[49m\n\u001B[32m    235\u001B[39m     \u001B[38;5;28;01mif\u001B[39;00m \u001B[38;5;28misinstance\u001B[39m(response, QuerySummary):\n\u001B[32m    236\u001B[39m         \u001B[38;5;28;01mreturn\u001B[39;00m response.as_query_result()\n",
      "\u001B[36mFile \u001B[39m\u001B[32m/opt/anaconda3/envs/RAGSystems/lib/python3.12/site-packages/clickhouse_connect/driver/httpclient.py:412\u001B[39m, in \u001B[36mHttpClient.command\u001B[39m\u001B[34m(self, cmd, parameters, data, settings, use_database, external_data, transport_settings)\u001B[39m\n\u001B[32m    410\u001B[39m headers = dict_copy(headers, transport_settings)\n\u001B[32m    411\u001B[39m method = \u001B[33m'\u001B[39m\u001B[33mPOST\u001B[39m\u001B[33m'\u001B[39m \u001B[38;5;28;01mif\u001B[39;00m payload \u001B[38;5;129;01mor\u001B[39;00m fields \u001B[38;5;28;01melse\u001B[39;00m \u001B[33m'\u001B[39m\u001B[33mGET\u001B[39m\u001B[33m'\u001B[39m\n\u001B[32m--> \u001B[39m\u001B[32m412\u001B[39m response = \u001B[38;5;28;43mself\u001B[39;49m\u001B[43m.\u001B[49m\u001B[43m_raw_request\u001B[49m\u001B[43m(\u001B[49m\u001B[43mpayload\u001B[49m\u001B[43m,\u001B[49m\u001B[43m \u001B[49m\u001B[43mparams\u001B[49m\u001B[43m,\u001B[49m\u001B[43m \u001B[49m\u001B[43mheaders\u001B[49m\u001B[43m,\u001B[49m\u001B[43m \u001B[49m\u001B[43mmethod\u001B[49m\u001B[43m,\u001B[49m\u001B[43m \u001B[49m\u001B[43mfields\u001B[49m\u001B[43m=\u001B[49m\u001B[43mfields\u001B[49m\u001B[43m,\u001B[49m\u001B[43m \u001B[49m\u001B[43mserver_wait\u001B[49m\u001B[43m=\u001B[49m\u001B[38;5;28;43;01mFalse\u001B[39;49;00m\u001B[43m)\u001B[49m\n\u001B[32m    413\u001B[39m \u001B[38;5;28;01mif\u001B[39;00m response.data:\n\u001B[32m    414\u001B[39m     \u001B[38;5;28;01mtry\u001B[39;00m:\n",
      "\u001B[36mFile \u001B[39m\u001B[32m/opt/anaconda3/envs/RAGSystems/lib/python3.12/site-packages/clickhouse_connect/driver/httpclient.py:547\u001B[39m, in \u001B[36mHttpClient._raw_request\u001B[39m\u001B[34m(self, data, params, headers, method, retries, stream, server_wait, fields, error_handler)\u001B[39m\n\u001B[32m    545\u001B[39m     error_handler(response)\n\u001B[32m    546\u001B[39m \u001B[38;5;28;01melse\u001B[39;00m:\n\u001B[32m--> \u001B[39m\u001B[32m547\u001B[39m     \u001B[38;5;28;43mself\u001B[39;49m\u001B[43m.\u001B[49m\u001B[43m_error_handler\u001B[49m\u001B[43m(\u001B[49m\u001B[43mresponse\u001B[49m\u001B[43m)\u001B[49m\n",
      "\u001B[36mFile \u001B[39m\u001B[32m/opt/anaconda3/envs/RAGSystems/lib/python3.12/site-packages/clickhouse_connect/driver/httpclient.py:468\u001B[39m, in \u001B[36mHttpClient._error_handler\u001B[39m\u001B[34m(self, response, retried)\u001B[39m\n\u001B[32m    465\u001B[39m     response.close()\n\u001B[32m    467\u001B[39m \u001B[38;5;66;03m# Raise the appropriate exception class\u001B[39;00m\n\u001B[32m--> \u001B[39m\u001B[32m468\u001B[39m \u001B[38;5;28;01mraise\u001B[39;00m OperationalError(err_str) \u001B[38;5;28;01mif\u001B[39;00m retried \u001B[38;5;28;01melse\u001B[39;00m DatabaseError(err_str) \u001B[38;5;28;01mfrom\u001B[39;00m\u001B[38;5;250m \u001B[39m\u001B[38;5;28;01mNone\u001B[39;00m\n",
      "\u001B[31mDatabaseError\u001B[39m: Received ClickHouse exception, code: 62, server response: Code: 62. DB::Exception: Syntax error: failed at position 15 ([) (line 2, col 14): [IF NOT EXISTS] [db.]table_name [ON CLUSTER cluster]\n(\n    name1 [type1] [[NOT] NULL] [DEFAULT|MATERIALIZED|ALIAS|EPHEMERAL expr1] [COMMENT ...] [CODEC(codec1)] [... Expected one of: IF NOT EXISTS, compound identifier, identifier. (SYNTAX_ERROR) (version 25.10.1.2351 (official build)) (for url http://localhost:8123)"
     ]
    }
   ],
   "execution_count": 8
  }
 ],
 "metadata": {
  "kernelspec": {
   "name": "python3",
   "language": "python",
   "display_name": "Python 3 (ipykernel)"
  }
 },
 "nbformat": 4,
 "nbformat_minor": 5
}
